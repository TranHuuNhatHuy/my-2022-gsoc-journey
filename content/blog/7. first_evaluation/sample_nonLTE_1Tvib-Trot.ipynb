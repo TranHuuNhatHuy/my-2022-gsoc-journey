{
  "cells": [
    {
      "cell_type": "markdown",
      "metadata": {
        "id": "8mfaRN5Soa0F"
      },
      "source": [
        "# Sample notebook : Non-LTE fitting with single `Tvib` and `Trot`"
      ]
    },
    {
      "cell_type": "markdown",
      "metadata": {},
      "source": [
        "This sample notebook provides an example to use new fitting module for fitting non-LTE spectrum with `Tvib` and `Trot` as fit parameters.\n",
        "\n",
        "You can freely edit/add/remove the input parameters below and see how the fitting goes. You can load your own experimental spectrum, or select one from `./data/nonLTE/ground-truth/`."
      ]
    },
    {
      "cell_type": "code",
      "execution_count": null,
      "metadata": {
        "id": "bE1Il73CoMGO"
      },
      "outputs": [],
      "source": [
        "import os\n",
        "from os import path\n",
        "if not(path.exists('RADIS-Spectrum-Fitting-Benchmark')):\n",
        "    !git clone https://github.com/TranHuuNhatHuy/RADIS-Spectrum-Fitting-Benchmark\n",
        "os.chdir('RADIS-Spectrum-Fitting-Benchmark')"
      ]
    },
    {
      "cell_type": "code",
      "execution_count": null,
      "metadata": {
        "id": "gjNocl5IoSSc"
      },
      "outputs": [],
      "source": [
        "!pip install lmfit"
      ]
    },
    {
      "cell_type": "code",
      "execution_count": null,
      "metadata": {
        "id": "d7riToYKoTl9"
      },
      "outputs": [],
      "source": [
        "# -*- coding: utf-8 -*-\n",
        "\n",
        "from modules.fitting_module import fit_spectrum\n",
        "from radis import load_spec\n",
        "\n",
        "\n",
        "# Load experimental spectrum. You can prepare yours, or fetch one of them in the ground-truth folder like below.\n",
        "s_experimental = load_spec(\"./data/nonLTE/ground-truth/synth-CO-1-2000-2300-cm-1-P0.1-t-v2000-r600-mf0.5-p1-sl1nm.spec\")\n",
        "\n",
        "# Experimental conditions which will be used for spectrum modeling. Basically, these are known ground-truths.\n",
        "experimental_conditions = {\n",
        "    \"molecule\" : \"CO\",          # Molecule ID\n",
        "    \"isotope\" : \"1\",            # Isotope ID, can have multiple at once\n",
        "    \"wmin\" : 2050,              # Starting wavelength/wavenumber to be cropped out from the original experimental spectrum.\n",
        "    \"wmax\" : 2100,              # Ending wavelength/wavenumber for the cropping range.\n",
        "    \"wunit\" : \"cm-1\",           # Accompanying unit of those 2 wavelengths/wavenumbers above.\n",
        "    \"mole_fraction\" : 0.5,      # Species mole fraction, from 0 to 1.\n",
        "    \"pressure\" : 0.1,           # Partial pressure of gas, in \"bar\" unit.\n",
        "    \"path_length\" : 1,          # Experimental path length, in \"cm\" unit.\n",
        "    \"wstep\" : 0.001,            # Resolution of wavenumber grid, in \"cm-1\" unit.\n",
        "    \"slit\" : \"1 nm\",            # Experimental slit, must be a blank space separating slit amount and unit.\n",
        "    \"offset\" : \"-0.2 nm\"        # Experimental offset, must be a blank space separating offset amount and unit.\n",
        "}\n",
        "\n",
        "# List of parameters to be fitted.\n",
        "fit_parameters = {\n",
        "    \"Tvib\" : 1700,              # Fit parameter, accompanied by its initial value.\n",
        "    \"Trot\" : 500\n",
        "}\n",
        "\n",
        "# List of bounding ranges applied for those fit parameters above.\n",
        "bounding_ranges = {\n",
        "    \"Tvib\" : [1500, 3000],       # Bounding ranges for each fit parameter stated above. You can skip this step, but not recommended.\n",
        "    \"Trot\" : [500, 1000]\n",
        "}\n",
        "\n",
        "# Fitting pipeline setups.\n",
        "fit_properties = {\n",
        "    \"method\" : \"lbfgsb\",        # Preferred fitting method from the 17 confirmed methods of LMFIT stated in week 4 blog. By default, \"leastsq\".\n",
        "    \"fit_var\" : \"radiance\",     # Spectral quantity to be extracted for fitting process, such as \"radiance\", \"absorbance\", etc.\n",
        "    \"normalize\" : False,        # Either applying normalization on both spectra or not.\n",
        "    \"max_loop\" : 150,           # Max number of loops allowed. By default, 100.\n",
        "    \"tol\" : 1e-10               # Fitting tolerance, only applicable for \"lbfgsb\" method.\n",
        "}\n",
        "\n",
        "\n",
        "# Conduct the fitting process!\n",
        "s_best, result, log = fit_spectrum(\n",
        "    s_exp = s_experimental,\n",
        "    fit_params = fit_parameters,\n",
        "    bounds = bounding_ranges,\n",
        "    model = experimental_conditions,\n",
        "    pipeline = fit_properties\n",
        ")\n",
        "\n",
        "\n",
        "# Now investigate the log\n",
        "\n",
        "print(\"\\nResidual history: \\n\")\n",
        "print(log[\"residual\"])\n",
        "\n",
        "print(\"\\nFitted values history: \\n\")\n",
        "for fit_val in log[\"fit_vals\"]:\n",
        "    print(fit_val)\n",
        "\n",
        "print(\"\\nTotal fitting time: \")\n",
        "print(log[\"time_fitting\"], end = \" s\\n\")"
      ]
    }
  ],
  "metadata": {
    "colab": {
      "collapsed_sections": [],
      "name": "template.ipynb",
      "provenance": []
    },
    "kernelspec": {
      "display_name": "Python 3.8.10 64-bit",
      "language": "python",
      "name": "python3"
    },
    "language_info": {
      "name": "python",
      "version": "3.8.10"
    },
    "vscode": {
      "interpreter": {
        "hash": "a4868653bb6f8972e87e4c446ab8a445a15b25dedb8594cc74c480f8152ea86a"
      }
    }
  },
  "nbformat": 4,
  "nbformat_minor": 0
}
