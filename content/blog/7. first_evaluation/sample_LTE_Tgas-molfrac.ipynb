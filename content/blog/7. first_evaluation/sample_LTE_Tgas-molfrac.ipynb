{
  "cells": [
    {
      "cell_type": "markdown",
      "metadata": {
        "id": "8mfaRN5Soa0F"
      },
      "source": [
        "# Sample notebook : LTE fitting with `Tgas` and `mole_fraction`"
      ]
    },
    {
      "cell_type": "markdown",
      "metadata": {},
      "source": [
        "This sample notebook provides an example to use new fitting module for fitting LTE spectrum with `Tgas` and `mole_fraction` as fit parameters.\n",
        "\n",
        "You can freely edit/add/remove the input parameters below and see how the fitting goes. You can load your own experimental spectrum, or select one from `./data/LTE/ground-truth/`."
      ]
    },
    {
      "cell_type": "code",
      "execution_count": null,
      "metadata": {
        "id": "bE1Il73CoMGO"
      },
      "outputs": [],
      "source": [
        "import os\n",
        "from os import path\n",
        "if not(path.exists('RADIS-Spectrum-Fitting-Benchmark')):\n",
        "    !git clone https://github.com/TranHuuNhatHuy/RADIS-Spectrum-Fitting-Benchmark\n",
        "os.chdir('RADIS-Spectrum-Fitting-Benchmark')"
      ]
    },
    {
      "cell_type": "code",
      "execution_count": null,
      "metadata": {
        "id": "gjNocl5IoSSc"
      },
      "outputs": [],
      "source": [
        "!pip install lmfit"
      ]
    },
    {
      "cell_type": "code",
      "execution_count": null,
      "metadata": {
        "id": "d7riToYKoTl9"
      },
      "outputs": [],
      "source": [
        "# -*- coding: utf-8 -*-\n",
        "\n",
        "from modules.fitting_module import fit_spectrum\n",
        "from radis import load_spec\n",
        "\n",
        "\n",
        "# Load experimental spectrum. You can prepare yours, or fetch one of them in the ground-truth folder like below.\n",
        "s_experimental = load_spec(\"./data/LTE/ground-truth/synth-CO2-1-500-1100-cm-1-P2-t900-v-r-mf0.5-p1-sl1nm.spec\")\n",
        "\n",
        "# Experimental conditions which will be used for spectrum modeling. Basically, these are known ground-truths.\n",
        "experimental_conditions = {\n",
        "    \"molecule\" : \"CO2\",         # Molecule ID\n",
        "    \"isotope\" : \"1\",            # Isotope ID, can have multiple at once\n",
        "    \"wmin\" : 600,               # Starting wavelength/wavenumber to be cropped out from the original experimental spectrum.\n",
        "    \"wmax\" : 900,               # Ending wavelength/wavenumber for the cropping range.\n",
        "    \"wunit\" : \"cm-1\",           # Accompanying unit of those 2 wavelengths/wavenumbers above.\n",
        "    \"pressure\" : 2,             # Partial pressure of gas, in \"bar\" unit.\n",
        "    \"path_length\" : 1,          # Experimental path length, in \"cm\" unit.\n",
        "    \"slit\" : \"1 nm\",            # Experimental slit, must be a blank space separating slit amount and unit.\n",
        "    \"offset\" : \"-0.2 nm\",       # Experimental offset, must be a blank space separating offset amount and unit.\n",
        "    \"databank\" : \"hitemp\"       # Databank used for the spectrum calculation.\n",
        "}\n",
        "\n",
        "# List of parameters to be fitted.\n",
        "fit_parameters = {\n",
        "    \"Tgas\" : 700,               # Fit parameter, accompanied by its initial value.\n",
        "    \"mole_fraction\" : 0.7\n",
        "}\n",
        "\n",
        "# List of bounding ranges applied for those fit parameters above.\n",
        "bounding_ranges = {\n",
        "    \"Tgas\" : [500, 1000],       # Bounding ranges for each fit parameter stated above. You can skip this step, but not recommended.\n",
        "}\n",
        "\n",
        "# Fitting pipeline setups.\n",
        "fit_properties = {\n",
        "    \"method\" : \"lbfgsb\",        # Preferred fitting method from the 17 confirmed methods of LMFIT stated in week 4 blog. By default, \"leastsq\".\n",
        "    \"fit_var\" : \"radiance\",     # Spectral quantity to be extracted for fitting process, such as \"radiance\", \"absorbance\", etc.\n",
        "    \"normalize\" : False,        # Either applying normalization on both spectra or not.\n",
        "    \"max_loop\" : 150,           # Max number of loops allowed. By default, 100.\n",
        "    \"tol\" : 1e-10               # Fitting tolerance, only applicable for \"lbfgsb\" method.\n",
        "}\n",
        "\n",
        "\n",
        "# Conduct the fitting process!\n",
        "s_best, result, log = fit_spectrum(\n",
        "    s_exp = s_experimental,\n",
        "    fit_params = fit_parameters,\n",
        "    bounds = bounding_ranges,\n",
        "    model = experimental_conditions,\n",
        "    pipeline = fit_properties\n",
        ")\n",
        "\n",
        "\n",
        "# Now investigate the log\n",
        "\n",
        "print(\"\\nResidual history: \\n\")\n",
        "print(log[\"residual\"])\n",
        "\n",
        "print(\"\\nFitted values history: \\n\")\n",
        "for fit_val in log[\"fit_vals\"]:\n",
        "    print(fit_val)\n",
        "\n",
        "print(\"\\nTotal fitting time: \")\n",
        "print(log[\"time_fitting\"], end = \" s\\n\")"
      ]
    }
  ],
  "metadata": {
    "colab": {
      "collapsed_sections": [],
      "name": "template.ipynb",
      "provenance": []
    },
    "kernelspec": {
      "display_name": "Python 3.8.9 64-bit",
      "language": "python",
      "name": "python3"
    },
    "language_info": {
      "name": "python",
      "version": "3.8.9"
    },
    "vscode": {
      "interpreter": {
        "hash": "31f2aee4e71d21fbe5cf8b01ff0e069b9275f58929596ceb00d14d90e3e16cd6"
      }
    }
  },
  "nbformat": 4,
  "nbformat_minor": 0
}
