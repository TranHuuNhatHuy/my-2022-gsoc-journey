{
  "cells": [
    {
      "cell_type": "markdown",
      "metadata": {
        "id": "8mfaRN5Soa0F"
      },
      "source": [
        "# Sample notebook : LTE fitting with `Tgas` using `JSON` as input"
      ]
    },
    {
      "cell_type": "markdown",
      "metadata": {},
      "source": [
        "This sample notebook provides an example to use new fitting module for fitting LTE spectrum with `Tgas` as fit parameter, and `JSON` file as input, instead of a series of `dict` parameters like other 2 notebooks.\n",
        "\n",
        "You can freely edit/add/remove the input parameters below and see how the fitting goes. You can load your own experimental spectrum, or select one from `./data/LTE/ground-truth/`. The corresponding `JSON` files for those experimental spectra are also stored there."
      ]
    },
    {
      "cell_type": "code",
      "execution_count": null,
      "metadata": {
        "id": "bE1Il73CoMGO"
      },
      "outputs": [],
      "source": [
        "import os\n",
        "from os import path\n",
        "if not(path.exists('RADIS-Spectrum-Fitting-Benchmark')):\n",
        "    !git clone https://github.com/TranHuuNhatHuy/RADIS-Spectrum-Fitting-Benchmark\n",
        "os.chdir('RADIS-Spectrum-Fitting-Benchmark')"
      ]
    },
    {
      "cell_type": "code",
      "execution_count": null,
      "metadata": {
        "id": "gjNocl5IoSSc"
      },
      "outputs": [],
      "source": [
        "!pip install lmfit"
      ]
    },
    {
      "cell_type": "code",
      "execution_count": null,
      "metadata": {
        "id": "d7riToYKoTl9"
      },
      "outputs": [],
      "source": [
        "# -*- coding: utf-8 -*-\n",
        "\n",
        "from modules.fitting_module import fit_spectrum\n",
        "from radis import load_spec\n",
        "\n",
        "\n",
        "# Get JSON file path (note that the experimental spectrum file MUST BE IN THE SAME FOLDER containing JSON file)\n",
        "JSON_path = \"./JSON_test_dir/test_JSON_file.json\"\n",
        "\n",
        "\n",
        "# Conduct the fitting process!\n",
        "s_best, result, log = fit_spectrum(input_file = JSON_path)\n",
        "\n",
        "\n",
        "# Now investigate the log\n",
        "\n",
        "print(\"\\nResidual history: \\n\")\n",
        "print(log[\"residual\"])\n",
        "\n",
        "print(\"\\nFitted values history: \\n\")\n",
        "for fit_val in log[\"fit_vals\"]:\n",
        "    print(fit_val)\n",
        "\n",
        "print(\"\\nTotal fitting time: \")\n",
        "print(log[\"time_fitting\"], end = \" s\\n\")"
      ]
    }
  ],
  "metadata": {
    "colab": {
      "collapsed_sections": [],
      "name": "template.ipynb",
      "provenance": []
    },
    "kernelspec": {
      "display_name": "Python 3.8.9 64-bit",
      "language": "python",
      "name": "python3"
    },
    "language_info": {
      "name": "python",
      "version": "3.8.9"
    },
    "vscode": {
      "interpreter": {
        "hash": "31f2aee4e71d21fbe5cf8b01ff0e069b9275f58929596ceb00d14d90e3e16cd6"
      }
    }
  },
  "nbformat": 4,
  "nbformat_minor": 0
}
